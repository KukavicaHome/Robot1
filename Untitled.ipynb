{
  "nbformat": 4,
  "nbformat_minor": 0,
  "metadata": {
    "colab": {
      "provenance": [],
      "authorship_tag": "ABX9TyOvVA4gT4bFsnj9UcOAlBzt",
      "include_colab_link": true
    },
    "kernelspec": {
      "name": "python3",
      "display_name": "Python 3"
    },
    "language_info": {
      "name": "python"
    }
  },
  "cells": [
    {
      "cell_type": "markdown",
      "metadata": {
        "id": "view-in-github",
        "colab_type": "text"
      },
      "source": [
        "<a href=\"https://colab.research.google.com/github/KukavicaHome/Robot1/blob/main/Untitled.ipynb\" target=\"_parent\"><img src=\"https://colab.research.google.com/assets/colab-badge.svg\" alt=\"Open In Colab\"/></a>"
      ]
    },
    {
      "cell_type": "code",
      "execution_count": 1,
      "metadata": {
        "colab": {
          "base_uri": "https://localhost:8080/",
          "height": 17
        },
        "id": "x4-EOW_fXhDe",
        "outputId": "a5258b39-db7e-44dd-bc8d-202f054cb81a"
      },
      "outputs": [
        {
          "output_type": "display_data",
          "data": {
            "text/plain": [
              "<IPython.core.display.Javascript object>"
            ],
            "application/javascript": [
              "\n",
              "    async function download(id, filename, size) {\n",
              "      if (!google.colab.kernel.accessAllowed) {\n",
              "        return;\n",
              "      }\n",
              "      const div = document.createElement('div');\n",
              "      const label = document.createElement('label');\n",
              "      label.textContent = `Downloading \"${filename}\": `;\n",
              "      div.appendChild(label);\n",
              "      const progress = document.createElement('progress');\n",
              "      progress.max = size;\n",
              "      div.appendChild(progress);\n",
              "      document.body.appendChild(div);\n",
              "\n",
              "      const buffers = [];\n",
              "      let downloaded = 0;\n",
              "\n",
              "      const channel = await google.colab.kernel.comms.open(id);\n",
              "      // Send a message to notify the kernel that we're ready.\n",
              "      channel.send({})\n",
              "\n",
              "      for await (const message of channel.messages) {\n",
              "        // Send a message to notify the kernel that we're ready.\n",
              "        channel.send({})\n",
              "        if (message.buffers) {\n",
              "          for (const buffer of message.buffers) {\n",
              "            buffers.push(buffer);\n",
              "            downloaded += buffer.byteLength;\n",
              "            progress.value = downloaded;\n",
              "          }\n",
              "        }\n",
              "      }\n",
              "      const blob = new Blob(buffers, {type: 'application/binary'});\n",
              "      const a = document.createElement('a');\n",
              "      a.href = window.URL.createObjectURL(blob);\n",
              "      a.download = filename;\n",
              "      div.appendChild(a);\n",
              "      a.click();\n",
              "      div.remove();\n",
              "    }\n",
              "  "
            ]
          },
          "metadata": {}
        },
        {
          "output_type": "display_data",
          "data": {
            "text/plain": [
              "<IPython.core.display.Javascript object>"
            ],
            "application/javascript": [
              "download(\"download_b597c891-4649-48a1-88fe-db45c1ab9cf8\", \"robot_simulation.gif\", 99962)"
            ]
          },
          "metadata": {}
        }
      ],
      "source": [
        "\n",
        "import numpy as np\n",
        "import matplotlib.pyplot as plt\n",
        "from matplotlib.patches import Polygon, Circle\n",
        "from PIL import Image\n",
        "import os\n",
        "from google.colab import files\n",
        "\n",
        "# Parametri\n",
        "width = 3\n",
        "height = 5\n",
        "radius = 10\n",
        "num_frames = 60\n",
        "\n",
        "# Priprema foldera\n",
        "folder = \"frames\"\n",
        "os.makedirs(folder, exist_ok=True)\n",
        "\n",
        "images = []\n",
        "\n",
        "for i in range(num_frames):\n",
        "    theta = 2 * np.pi * i / num_frames  # Ugao oko kruga\n",
        "\n",
        "    # Pozicija centra pravougaonika na kružnici\n",
        "    center_x = radius * np.cos(theta)\n",
        "    center_y = radius * np.sin(theta)\n",
        "\n",
        "    # Ugao tangente + dodatnih 180° da širina prati tangentu\n",
        "    angle = theta + np.pi\n",
        "\n",
        "    # Koordinate pravougaonika centriranog u (0,0)\n",
        "    corners = np.array([\n",
        "        [-width/2, -height/2],\n",
        "        [ width/2, -height/2],\n",
        "        [ width/2,  height/2],\n",
        "        [-width/2,  height/2]\n",
        "    ])\n",
        "\n",
        "    # Rotacija pravougaonika\n",
        "    rotation_matrix = np.array([\n",
        "        [np.cos(angle), -np.sin(angle)],\n",
        "        [np.sin(angle),  np.cos(angle)]\n",
        "    ])\n",
        "    rotated = corners @ rotation_matrix.T\n",
        "\n",
        "    # Translacija na poziciju na kružnici\n",
        "    translated = rotated + np.array([center_x, center_y])\n",
        "\n",
        "    # Crtanje\n",
        "    fig, ax = plt.subplots()\n",
        "    ax.set_aspect('equal')\n",
        "    ax.set_xlim(-radius - height, radius + height)\n",
        "    ax.set_ylim(-radius - height, radius + height)\n",
        "    ax.axis('off')\n",
        "\n",
        "    # Dodaj kružnicu\n",
        "    circle = Circle((0, 0), radius, fill=False, linestyle='--', color='gray')\n",
        "    ax.add_patch(circle)\n",
        "\n",
        "    # Dodaj pravougaonik (tijelo robota)\n",
        "    polygon = Polygon(translated, closed=True, color='blue')\n",
        "    ax.add_patch(polygon)\n",
        "\n",
        "    # Dodaj glavu robota (mali crveni krug na vrhu)\n",
        "    head_rel_pos = np.array([0, height / 2])  # lokalna pozicija glave\n",
        "    head_rotated = rotation_matrix @ head_rel_pos  # rotirana pozicija\n",
        "    head_position = head_rotated + np.array([center_x, center_y])  # pomjerena pozicija\n",
        "    head_radius = width / 3\n",
        "    head = Circle(head_position, head_radius, color='red')\n",
        "    ax.add_patch(head)\n",
        "\n",
        "    # Snimi frejm\n",
        "    filename = os.path.join(folder, f\"frame_{i:03d}.png\")\n",
        "    plt.savefig(filename, bbox_inches='tight', pad_inches=0.1)\n",
        "    plt.close()\n",
        "    images.append(Image.open(filename))\n",
        "\n",
        "# Snimi GIF\n",
        "gif_path = \"robot_simulation.gif\"\n",
        "images[0].save(gif_path, save_all=True, append_images=images[1:], duration=100, loop=0)\n",
        "\n",
        "# Ponudi preuzimanje u Google Colab\n",
        "files.download(gif_path)"
      ]
    }
  ]
}